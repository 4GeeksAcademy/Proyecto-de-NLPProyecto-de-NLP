{
    "cells": [
        {
            "cell_type": "markdown",
            "metadata": {},
            "source": [
                "# Explore here"
            ]
        },
        {
            "cell_type": "code",
            "execution_count": 3,
            "metadata": {},
            "outputs": [
                {
                    "name": "stdout",
                    "output_type": "stream",
                    "text": [
                        "                                                 url  is_spam\n",
                        "0  https://briefingday.us8.list-manage.com/unsubs...     True\n",
                        "1                             https://www.hvper.com/     True\n",
                        "2                 https://briefingday.com/m/v4n3i4f3     True\n",
                        "3   https://briefingday.com/n/20200618/m#commentform    False\n",
                        "4                        https://briefingday.com/fan     True\n"
                    ]
                }
            ],
            "source": [
                "import pandas as pd\n",
                "\n",
                "# Cargar el dataset\n",
                "url = \"https://raw.githubusercontent.com/4GeeksAcademy/NLP-project-tutorial/main/url_spam.csv\"\n",
                "df = pd.read_csv(url)\n",
                "\n",
                "# Mostrar las primeras filas\n",
                "print(df.head())"
            ]
        },
        {
            "cell_type": "code",
            "execution_count": 5,
            "metadata": {},
            "outputs": [
                {
                    "name": "stderr",
                    "output_type": "stream",
                    "text": [
                        "[nltk_data] Downloading package stopwords to /home/vscode/nltk_data...\n",
                        "[nltk_data]   Unzipping corpora/stopwords.zip.\n",
                        "[nltk_data] Downloading package wordnet to /home/vscode/nltk_data...\n"
                    ]
                },
                {
                    "data": {
                        "text/plain": [
                            "True"
                        ]
                    },
                    "execution_count": 5,
                    "metadata": {},
                    "output_type": "execute_result"
                }
            ],
            "source": [
                "import pandas as pd\n",
                "import re\n",
                "import nltk\n",
                "from sklearn.model_selection import train_test_split\n",
                "from sklearn.feature_extraction.text import TfidfVectorizer\n",
                "\n",
                "nltk.download('stopwords')\n",
                "from nltk.corpus import stopwords\n",
                "from nltk.stem import WordNetLemmatizer\n",
                "nltk.download('wordnet')\n"
            ]
        },
        {
            "cell_type": "markdown",
            "metadata": {},
            "source": [
                "PASO 2:"
            ]
        },
        {
            "cell_type": "code",
            "execution_count": 8,
            "metadata": {},
            "outputs": [
                {
                    "name": "stderr",
                    "output_type": "stream",
                    "text": [
                        "[nltk_data] Downloading package stopwords to /home/vscode/nltk_data...\n",
                        "[nltk_data]   Package stopwords is already up-to-date!\n",
                        "[nltk_data] Downloading package wordnet to /home/vscode/nltk_data...\n",
                        "[nltk_data]   Package wordnet is already up-to-date!\n"
                    ]
                },
                {
                    "data": {
                        "text/html": [
                            "<div>\n",
                            "<style scoped>\n",
                            "    .dataframe tbody tr th:only-of-type {\n",
                            "        vertical-align: middle;\n",
                            "    }\n",
                            "\n",
                            "    .dataframe tbody tr th {\n",
                            "        vertical-align: top;\n",
                            "    }\n",
                            "\n",
                            "    .dataframe thead th {\n",
                            "        text-align: right;\n",
                            "    }\n",
                            "</style>\n",
                            "<table border=\"1\" class=\"dataframe\">\n",
                            "  <thead>\n",
                            "    <tr style=\"text-align: right;\">\n",
                            "      <th></th>\n",
                            "      <th>url</th>\n",
                            "      <th>processed_url</th>\n",
                            "      <th>is_spam</th>\n",
                            "    </tr>\n",
                            "  </thead>\n",
                            "  <tbody>\n",
                            "    <tr>\n",
                            "      <th>0</th>\n",
                            "      <td>https://briefingday.us8.list-manage.com/unsubs...</td>\n",
                            "      <td>http briefingday us8 list manage com unsubscribe</td>\n",
                            "      <td>1</td>\n",
                            "    </tr>\n",
                            "    <tr>\n",
                            "      <th>1</th>\n",
                            "      <td>https://www.hvper.com/</td>\n",
                            "      <td>http www hvper com</td>\n",
                            "      <td>1</td>\n",
                            "    </tr>\n",
                            "    <tr>\n",
                            "      <th>2</th>\n",
                            "      <td>https://briefingday.com/m/v4n3i4f3</td>\n",
                            "      <td>http briefingday com v4n3i4f3</td>\n",
                            "      <td>1</td>\n",
                            "    </tr>\n",
                            "    <tr>\n",
                            "      <th>3</th>\n",
                            "      <td>https://briefingday.com/n/20200618/m#commentform</td>\n",
                            "      <td>http briefingday com n 20200618 commentform</td>\n",
                            "      <td>0</td>\n",
                            "    </tr>\n",
                            "    <tr>\n",
                            "      <th>4</th>\n",
                            "      <td>https://briefingday.com/fan</td>\n",
                            "      <td>http briefingday com fan</td>\n",
                            "      <td>1</td>\n",
                            "    </tr>\n",
                            "  </tbody>\n",
                            "</table>\n",
                            "</div>"
                        ],
                        "text/plain": [
                            "                                                 url  \\\n",
                            "0  https://briefingday.us8.list-manage.com/unsubs...   \n",
                            "1                             https://www.hvper.com/   \n",
                            "2                 https://briefingday.com/m/v4n3i4f3   \n",
                            "3   https://briefingday.com/n/20200618/m#commentform   \n",
                            "4                        https://briefingday.com/fan   \n",
                            "\n",
                            "                                      processed_url  is_spam  \n",
                            "0  http briefingday us8 list manage com unsubscribe        1  \n",
                            "1                                http www hvper com        1  \n",
                            "2                     http briefingday com v4n3i4f3        1  \n",
                            "3       http briefingday com n 20200618 commentform        0  \n",
                            "4                          http briefingday com fan        1  "
                        ]
                    },
                    "execution_count": 8,
                    "metadata": {},
                    "output_type": "execute_result"
                }
            ],
            "source": [
                "\n",
                "# Descargar recursos de nltk \n",
                "nltk.download('stopwords')\n",
                "nltk.download('wordnet')\n",
                "\n",
                "# Preparar stopwords y lematizador\n",
                "stop_words = set(stopwords.words('english'))\n",
                "lemmatizer = WordNetLemmatizer()\n",
                "\n",
                "# Función de preprocesamiento de URL\n",
                "def preprocess_url(url):\n",
                "    # Reemplazar signos de puntuación por espacios\n",
                "    url_clean = re.sub(r'[/:.?=&\\-#]', ' ', url)\n",
                "    \n",
                "    # Tokenizar y pasar a minúsculas\n",
                "    tokens = url_clean.lower().split()\n",
                "    \n",
                "    # Eliminar stopwords\n",
                "    tokens = [t for t in tokens if t not in stop_words]\n",
                "    \n",
                "    # Lematizar tokens\n",
                "    tokens = [lemmatizer.lemmatize(t) for t in tokens]\n",
                "    \n",
                "    # Devolver tokens como texto unido\n",
                "    return ' '.join(tokens)\n",
                "\n",
                "# Convertir columna is_spam a números\n",
                "df['is_spam'] = df['is_spam'].astype(int)\n",
                "\n",
                "# Aplicar preprocesamiento a todas las URLs\n",
                "df['processed_url'] = df['url'].apply(preprocess_url)\n",
                "\n",
                "# Revisar resultado\n",
                "df[['url', 'processed_url', 'is_spam']].head()"
            ]
        },
        {
            "cell_type": "code",
            "execution_count": 9,
            "metadata": {},
            "outputs": [
                {
                    "name": "stdout",
                    "output_type": "stream",
                    "text": [
                        "Tamaño train: 2099\n",
                        "Tamaño test: 900\n",
                        "Proporción spam en train: 0.23201524535493093\n",
                        "Proporción spam en test: 0.23222222222222222\n"
                    ]
                }
            ],
            "source": [
                "from sklearn.model_selection import train_test_split\n",
                "\n",
                "# Variables de entrada (URLs preprocesadas) y salida (spam/no spam)\n",
                "X = df['processed_url']\n",
                "y = df['is_spam']\n",
                "\n",
                "# Dividir en train y test\n",
                "# stratify=y asegura que la proporción de spam/no spam sea igual en ambos conjuntos\n",
                "X_train, X_test, y_train, y_test = train_test_split(\n",
                "    X, y,\n",
                "    test_size=0.3,   # 30% test, 70% train\n",
                "    random_state=42, # para reproducibilidad\n",
                "    stratify=y       # mantiene proporción de clases\n",
                ")\n",
                "\n",
                "# Verificar tamaños y proporciones\n",
                "print(\"Tamaño train:\", X_train.shape[0])\n",
                "print(\"Tamaño test:\", X_test.shape[0])\n",
                "print(\"Proporción spam en train:\", y_train.mean())\n",
                "print(\"Proporción spam en test:\", y_test.mean())\n"
            ]
        },
        {
            "cell_type": "markdown",
            "metadata": {},
            "source": [
                "PASO 3:"
            ]
        },
        {
            "cell_type": "code",
            "execution_count": 10,
            "metadata": {},
            "outputs": [
                {
                    "name": "stdout",
                    "output_type": "stream",
                    "text": [
                        "Dimensiones train: (2099, 5091)\n",
                        "Dimensiones test: (900, 5091)\n"
                    ]
                }
            ],
            "source": [
                "from sklearn.feature_extraction.text import TfidfVectorizer\n",
                "\n",
                "# Crear vectorizador TF-IDF\n",
                "vectorizer = TfidfVectorizer()\n",
                "\n",
                "# Ajustar solo con los datos de entrenamiento y transformar train y test\n",
                "X_train_tfidf = vectorizer.fit_transform(X_train)\n",
                "X_test_tfidf = vectorizer.transform(X_test)\n",
                "\n",
                "print(\"Dimensiones train:\", X_train_tfidf.shape)\n",
                "print(\"Dimensiones test:\", X_test_tfidf.shape)\n"
            ]
        },
        {
            "cell_type": "code",
            "execution_count": 11,
            "metadata": {},
            "outputs": [],
            "source": [
                "#ENTRENAR\n",
                "from sklearn.svm import SVC\n",
                "from sklearn.metrics import classification_report, accuracy_score, ConfusionMatrixDisplay\n",
                "import matplotlib.pyplot as plt\n",
                "\n",
                "# Crear modelo SVM con parámetros por defecto\n",
                "svm_model = SVC()\n",
                "\n",
                "# Entrenar\n",
                "svm_model.fit(X_train_tfidf, y_train)\n",
                "\n",
                "# Predecir\n",
                "y_pred = svm_model.predict(X_test_tfidf)\n"
            ]
        },
        {
            "cell_type": "code",
            "execution_count": 12,
            "metadata": {},
            "outputs": [
                {
                    "name": "stdout",
                    "output_type": "stream",
                    "text": [
                        "Accuracy: 0.9377777777777778\n",
                        "Classification Report:\n",
                        "               precision    recall  f1-score   support\n",
                        "\n",
                        "           0       0.96      0.96      0.96       691\n",
                        "           1       0.87      0.86      0.87       209\n",
                        "\n",
                        "    accuracy                           0.94       900\n",
                        "   macro avg       0.91      0.91      0.91       900\n",
                        "weighted avg       0.94      0.94      0.94       900\n",
                        "\n"
                    ]
                },
                {
                    "data": {
                        "image/png": "[encoded data removed]",
                        "text/plain": [
                            "<Figure size 640x480 with 2 Axes>"
                        ]
                    },
                    "metadata": {},
                    "output_type": "display_data"
                }
            ],
            "source": [
                "#ANALIZAR\n",
                "# Accuracy general\n",
                "print(\"Accuracy:\", accuracy_score(y_test, y_pred))\n",
                "\n",
                "# Reporte de clasificación\n",
                "print(\"Classification Report:\\n\", classification_report(y_test, y_pred))\n",
                "\n",
                "# Matriz de confusión\n",
                "ConfusionMatrixDisplay.from_estimator(svm_model, X_test_tfidf, y_test)\n",
                "plt.title(\"Matriz de Confusión - SVM Spam URLs\")\n",
                "plt.show()\n"
            ]
        },
        {
            "cell_type": "markdown",
            "metadata": {},
            "source": [
                "PASO 4:"
            ]
        },
        {
            "cell_type": "code",
            "execution_count": 13,
            "metadata": {},
            "outputs": [
                {
                    "name": "stdout",
                    "output_type": "stream",
                    "text": [
                        "Fitting 5 folds for each of 12 candidates, totalling 60 fits\n",
                        "[CV] END ..................C=0.1, gamma=scale, kernel=linear; total time=   0.2s\n",
                        "[CV] END ..................C=0.1, gamma=scale, kernel=linear; total time=   0.3s\n",
                        "[CV] END ..................C=0.1, gamma=scale, kernel=linear; total time=   0.2s\n",
                        "[CV] END ..................C=0.1, gamma=scale, kernel=linear; total time=   0.2s\n",
                        "[CV] END ..................C=0.1, gamma=scale, kernel=linear; total time=   0.2s\n",
                        "[CV] END .....................C=0.1, gamma=scale, kernel=rbf; total time=   0.3s\n",
                        "[CV] END .....................C=0.1, gamma=scale, kernel=rbf; total time=   0.3s\n",
                        "[CV] END .....................C=0.1, gamma=scale, kernel=rbf; total time=   0.3s\n",
                        "[CV] END .....................C=0.1, gamma=scale, kernel=rbf; total time=   0.3s\n",
                        "[CV] END .....................C=0.1, gamma=scale, kernel=rbf; total time=   0.3s\n",
                        "[CV] END ...................C=0.1, gamma=auto, kernel=linear; total time=   0.3s\n",
                        "[CV] END ...................C=0.1, gamma=auto, kernel=linear; total time=   0.2s\n",
                        "[CV] END ...................C=0.1, gamma=auto, kernel=linear; total time=   0.2s\n",
                        "[CV] END ...................C=0.1, gamma=auto, kernel=linear; total time=   0.2s\n",
                        "[CV] END ...................C=0.1, gamma=auto, kernel=linear; total time=   0.2s\n",
                        "[CV] END ......................C=0.1, gamma=auto, kernel=rbf; total time=   0.2s\n",
                        "[CV] END ......................C=0.1, gamma=auto, kernel=rbf; total time=   0.2s\n",
                        "[CV] END ......................C=0.1, gamma=auto, kernel=rbf; total time=   0.2s\n",
                        "[CV] END ......................C=0.1, gamma=auto, kernel=rbf; total time=   0.2s\n",
                        "[CV] END ....................C=1, gamma=scale, kernel=linear; total time=   0.2s\n",
                        "[CV] END ......................C=0.1, gamma=auto, kernel=rbf; total time=   0.2s\n",
                        "[CV] END ....................C=1, gamma=scale, kernel=linear; total time=   0.2s\n",
                        "[CV] END ....................C=1, gamma=scale, kernel=linear; total time=   0.2s\n",
                        "[CV] END ....................C=1, gamma=scale, kernel=linear; total time=   0.2s\n",
                        "[CV] END ....................C=1, gamma=scale, kernel=linear; total time=   0.2s\n",
                        "[CV] END .......................C=1, gamma=scale, kernel=rbf; total time=   0.4s\n",
                        "[CV] END .......................C=1, gamma=scale, kernel=rbf; total time=   0.4s\n",
                        "[CV] END .......................C=1, gamma=scale, kernel=rbf; total time=   0.4s\n",
                        "[CV] END .......................C=1, gamma=scale, kernel=rbf; total time=   0.4s\n",
                        "[CV] END .....................C=1, gamma=auto, kernel=linear; total time=   0.2s\n",
                        "[CV] END .......................C=1, gamma=scale, kernel=rbf; total time=   0.4s\n",
                        "[CV] END .....................C=1, gamma=auto, kernel=linear; total time=   0.2s\n",
                        "[CV] END .....................C=1, gamma=auto, kernel=linear; total time=   0.2s\n",
                        "[CV] END .....................C=1, gamma=auto, kernel=linear; total time=   0.2s\n",
                        "[CV] END .....................C=1, gamma=auto, kernel=linear; total time=   0.2s\n",
                        "[CV] END ........................C=1, gamma=auto, kernel=rbf; total time=   0.2s\n",
                        "[CV] END ........................C=1, gamma=auto, kernel=rbf; total time=   0.2s\n",
                        "[CV] END ........................C=1, gamma=auto, kernel=rbf; total time=   0.2s\n",
                        "[CV] END ........................C=1, gamma=auto, kernel=rbf; total time=   0.2s\n",
                        "[CV] END ........................C=1, gamma=auto, kernel=rbf; total time=   0.2s\n",
                        "[CV] END ...................C=10, gamma=scale, kernel=linear; total time=   0.2s\n",
                        "[CV] END ...................C=10, gamma=scale, kernel=linear; total time=   0.2s\n",
                        "[CV] END ...................C=10, gamma=scale, kernel=linear; total time=   0.2s\n",
                        "[CV] END ...................C=10, gamma=scale, kernel=linear; total time=   0.2s\n",
                        "[CV] END ...................C=10, gamma=scale, kernel=linear; total time=   0.2s\n",
                        "[CV] END ......................C=10, gamma=scale, kernel=rbf; total time=   0.4s\n",
                        "[CV] END ......................C=10, gamma=scale, kernel=rbf; total time=   0.5s\n",
                        "[CV] END ......................C=10, gamma=scale, kernel=rbf; total time=   0.4s\n",
                        "[CV] END ......................C=10, gamma=scale, kernel=rbf; total time=   0.4s\n",
                        "[CV] END ....................C=10, gamma=auto, kernel=linear; total time=   0.2s\n",
                        "[CV] END ......................C=10, gamma=scale, kernel=rbf; total time=   0.4s\n",
                        "[CV] END ....................C=10, gamma=auto, kernel=linear; total time=   0.2s\n",
                        "[CV] END ....................C=10, gamma=auto, kernel=linear; total time=   0.2s\n",
                        "[CV] END ....................C=10, gamma=auto, kernel=linear; total time=   0.2s\n",
                        "[CV] END ....................C=10, gamma=auto, kernel=linear; total time=   0.2s\n",
                        "[CV] END .......................C=10, gamma=auto, kernel=rbf; total time=   0.2s\n",
                        "[CV] END .......................C=10, gamma=auto, kernel=rbf; total time=   0.2s\n",
                        "[CV] END .......................C=10, gamma=auto, kernel=rbf; total time=   0.3s\n",
                        "[CV] END .......................C=10, gamma=auto, kernel=rbf; total time=   0.2s\n",
                        "[CV] END .......................C=10, gamma=auto, kernel=rbf; total time=   0.2s\n",
                        "Mejores hiperparámetros: {'C': 10, 'gamma': 'scale', 'kernel': 'rbf'}\n"
                    ]
                }
            ],
            "source": [
                "from sklearn.model_selection import GridSearchCV\n",
                "\n",
                "# Definir parámetros a explorar\n",
                "param_grid = {\n",
                "    'C': [0.1, 1, 10],\n",
                "    'kernel': ['linear', 'rbf'],\n",
                "    'gamma': ['scale', 'auto']\n",
                "}\n",
                "\n",
                "# Crear SVM\n",
                "svm = SVC()\n",
                "\n",
                "# Grid search con validación cruzada 5-fold\n",
                "grid_search = GridSearchCV(svm, param_grid, cv=5, scoring='f1', verbose=2, n_jobs=-1)\n",
                "\n",
                "# Entrenar en los datos de entrenamiento vectorizados\n",
                "grid_search.fit(X_train_tfidf, y_train)\n",
                "\n",
                "# Mejor modelo\n",
                "best_svm = grid_search.best_estimator_\n",
                "print(\"Mejores hiperparámetros:\", grid_search.best_params_)\n"
            ]
        },
        {
            "cell_type": "code",
            "execution_count": 14,
            "metadata": {},
            "outputs": [
                {
                    "name": "stdout",
                    "output_type": "stream",
                    "text": [
                        "Accuracy: 0.9333333333333333\n",
                        "Classification Report:\n",
                        "               precision    recall  f1-score   support\n",
                        "\n",
                        "           0       0.97      0.94      0.96       691\n",
                        "           1       0.83      0.90      0.86       209\n",
                        "\n",
                        "    accuracy                           0.93       900\n",
                        "   macro avg       0.90      0.92      0.91       900\n",
                        "weighted avg       0.94      0.93      0.93       900\n",
                        "\n"
                    ]
                },
                {
                    "data": {
                        "image/png": "[encoded data removed]",
                        "text/plain": [
                            "<Figure size 640x480 with 2 Axes>"
                        ]
                    },
                    "metadata": {},
                    "output_type": "display_data"
                }
            ],
            "source": [
                "# Predecir en test\n",
                "y_pred_best = best_svm.predict(X_test_tfidf)\n",
                "\n",
                "# Métricas\n",
                "from sklearn.metrics import classification_report, accuracy_score, ConfusionMatrixDisplay\n",
                "import matplotlib.pyplot as plt\n",
                "\n",
                "print(\"Accuracy:\", accuracy_score(y_test, y_pred_best))\n",
                "print(\"Classification Report:\\n\", classification_report(y_test, y_pred_best))\n",
                "\n",
                "# Matriz de confusión\n",
                "ConfusionMatrixDisplay.from_estimator(best_svm, X_test_tfidf, y_test)\n",
                "plt.title(\"Matriz de Confusión - SVM Optimizado\")\n",
                "plt.show()\n"
            ]
        },
        {
            "cell_type": "markdown",
            "metadata": {},
            "source": [
                "paso 5:"
            ]
        },
        {
            "cell_type": "code",
            "execution_count": 15,
            "metadata": {},
            "outputs": [
                {
                    "name": "stdout",
                    "output_type": "stream",
                    "text": [
                        "Modelo y vectorizador guardados correctamente.\n"
                    ]
                }
            ],
            "source": [
                "import joblib\n",
                "\n",
                "# Guardar el modelo\n",
                "joblib.dump(best_svm, \"svm_url_spam_model.pkl\")\n",
                "\n",
                "# Guardar el vectorizador\n",
                "joblib.dump(vectorizer, \"tfidf_vectorizer.pkl\")\n",
                "\n",
                "print(\"Modelo y vectorizador guardados correctamente.\")\n"
            ]
        }
    ],
    "metadata": {
        "kernelspec": {
            "display_name": "Python 3",
            "language": "python",
            "name": "python3"
        },
        "language_info": {
            "codemirror_mode": {
                "name": "ipython",
                "version": 3
            },
            "file_extension": ".py",
            "mimetype": "text/x-python",
            "name": "python",
            "nbconvert_exporter": "python",
            "pygments_lexer": "ipython3",
            "version": "3.11.4"
        },
        "orig_nbformat": 4
    },
    "nbformat": 4,
    "nbformat_minor": 2
}
